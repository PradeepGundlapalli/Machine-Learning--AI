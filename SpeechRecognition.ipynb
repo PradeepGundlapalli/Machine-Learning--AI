{
  "nbformat": 4,
  "nbformat_minor": 0,
  "metadata": {
    "colab": {
      "provenance": [],
      "toc_visible": true,
      "authorship_tag": "ABX9TyP8ar0QrPsILaXQnM0XzD8z",
      "include_colab_link": true
    },
    "kernelspec": {
      "name": "python3",
      "display_name": "Python 3"
    },
    "language_info": {
      "name": "python"
    }
  },
  "cells": [
    {
      "cell_type": "markdown",
      "metadata": {
        "id": "view-in-github",
        "colab_type": "text"
      },
      "source": [
        "<a href=\"https://colab.research.google.com/github/PradeepGundlapalli/Machine-Learning--AI/blob/main/SpeechRecognition.ipynb\" target=\"_parent\"><img src=\"https://colab.research.google.com/assets/colab-badge.svg\" alt=\"Open In Colab\"/></a>"
      ]
    },
    {
      "cell_type": "code",
      "execution_count": 10,
      "metadata": {
        "id": "jaL2rnOYoQCh",
        "colab": {
          "base_uri": "https://localhost:8080/"
        },
        "outputId": "78fa5540-7310-44ff-a956-25d252f471ac"
      },
      "outputs": [
        {
          "output_type": "stream",
          "name": "stdout",
          "text": [
            "Requirement already satisfied: SpeechRecognition in /usr/local/lib/python3.10/dist-packages (3.10.1)\n",
            "Requirement already satisfied: requests>=2.26.0 in /usr/local/lib/python3.10/dist-packages (from SpeechRecognition) (2.31.0)\n",
            "Requirement already satisfied: typing-extensions in /usr/local/lib/python3.10/dist-packages (from SpeechRecognition) (4.5.0)\n",
            "Requirement already satisfied: charset-normalizer<4,>=2 in /usr/local/lib/python3.10/dist-packages (from requests>=2.26.0->SpeechRecognition) (3.3.2)\n",
            "Requirement already satisfied: idna<4,>=2.5 in /usr/local/lib/python3.10/dist-packages (from requests>=2.26.0->SpeechRecognition) (3.6)\n",
            "Requirement already satisfied: urllib3<3,>=1.21.1 in /usr/local/lib/python3.10/dist-packages (from requests>=2.26.0->SpeechRecognition) (2.0.7)\n",
            "Requirement already satisfied: certifi>=2017.4.17 in /usr/local/lib/python3.10/dist-packages (from requests>=2.26.0->SpeechRecognition) (2023.11.17)\n"
          ]
        }
      ],
      "source": [
        "pip install SpeechRecognition\n"
      ]
    },
    {
      "cell_type": "code",
      "source": [
        "import sys\n",
        "print(\"Python version\")\n",
        "print(sys.version)\n",
        "print(\"Version info.\")\n",
        "print(sys.version_info)"
      ],
      "metadata": {
        "colab": {
          "base_uri": "https://localhost:8080/"
        },
        "id": "4k15pckCtbQA",
        "outputId": "44b2f8b1-585c-40b0-e4b2-99e65d15a1ac"
      },
      "execution_count": 15,
      "outputs": [
        {
          "output_type": "stream",
          "name": "stdout",
          "text": [
            "Python version\n",
            "3.10.12 (main, Nov 20 2023, 15:14:05) [GCC 11.4.0]\n",
            "Version info.\n",
            "sys.version_info(major=3, minor=10, micro=12, releaselevel='final', serial=0)\n"
          ]
        }
      ]
    },
    {
      "cell_type": "code",
      "source": [
        "!apt-get install portaudio19-dev"
      ],
      "metadata": {
        "colab": {
          "base_uri": "https://localhost:8080/"
        },
        "id": "nuMhYUNfuPjt",
        "outputId": "7610ba0d-d7dd-4e1b-8710-1903ca73e1a4"
      },
      "execution_count": 17,
      "outputs": [
        {
          "output_type": "stream",
          "name": "stdout",
          "text": [
            "Reading package lists... Done\n",
            "Building dependency tree... Done\n",
            "Reading state information... Done\n",
            "The following additional packages will be installed:\n",
            "  libportaudio2 libportaudiocpp0\n",
            "Suggested packages:\n",
            "  portaudio19-doc\n",
            "The following NEW packages will be installed:\n",
            "  libportaudio2 libportaudiocpp0 portaudio19-dev\n",
            "0 upgraded, 3 newly installed, 0 to remove and 15 not upgraded.\n",
            "Need to get 188 kB of archives.\n",
            "After this operation, 927 kB of additional disk space will be used.\n",
            "Get:1 http://archive.ubuntu.com/ubuntu jammy/universe amd64 libportaudio2 amd64 19.6.0-1.1 [65.3 kB]\n",
            "Get:2 http://archive.ubuntu.com/ubuntu jammy/universe amd64 libportaudiocpp0 amd64 19.6.0-1.1 [16.1 kB]\n",
            "Get:3 http://archive.ubuntu.com/ubuntu jammy/universe amd64 portaudio19-dev amd64 19.6.0-1.1 [106 kB]\n",
            "Fetched 188 kB in 1s (318 kB/s)\n",
            "Selecting previously unselected package libportaudio2:amd64.\n",
            "(Reading database ... 120899 files and directories currently installed.)\n",
            "Preparing to unpack .../libportaudio2_19.6.0-1.1_amd64.deb ...\n",
            "Unpacking libportaudio2:amd64 (19.6.0-1.1) ...\n",
            "Selecting previously unselected package libportaudiocpp0:amd64.\n",
            "Preparing to unpack .../libportaudiocpp0_19.6.0-1.1_amd64.deb ...\n",
            "Unpacking libportaudiocpp0:amd64 (19.6.0-1.1) ...\n",
            "Selecting previously unselected package portaudio19-dev:amd64.\n",
            "Preparing to unpack .../portaudio19-dev_19.6.0-1.1_amd64.deb ...\n",
            "Unpacking portaudio19-dev:amd64 (19.6.0-1.1) ...\n",
            "Setting up libportaudio2:amd64 (19.6.0-1.1) ...\n",
            "Setting up libportaudiocpp0:amd64 (19.6.0-1.1) ...\n",
            "Setting up portaudio19-dev:amd64 (19.6.0-1.1) ...\n",
            "Processing triggers for libc-bin (2.35-0ubuntu3.4) ...\n",
            "/sbin/ldconfig.real: /usr/local/lib/libtbbbind_2_0.so.3 is not a symbolic link\n",
            "\n",
            "/sbin/ldconfig.real: /usr/local/lib/libtbbbind.so.3 is not a symbolic link\n",
            "\n",
            "/sbin/ldconfig.real: /usr/local/lib/libtbbmalloc.so.2 is not a symbolic link\n",
            "\n",
            "/sbin/ldconfig.real: /usr/local/lib/libtbb.so.12 is not a symbolic link\n",
            "\n",
            "/sbin/ldconfig.real: /usr/local/lib/libtbbbind_2_5.so.3 is not a symbolic link\n",
            "\n",
            "/sbin/ldconfig.real: /usr/local/lib/libtbbmalloc_proxy.so.2 is not a symbolic link\n",
            "\n"
          ]
        }
      ]
    },
    {
      "cell_type": "code",
      "source": [
        "!pip install pyaudio"
      ],
      "metadata": {
        "colab": {
          "base_uri": "https://localhost:8080/"
        },
        "id": "6bNaWW4OurUK",
        "outputId": "a97cd1ab-5481-4fc1-df4d-d835c36338a6"
      },
      "execution_count": 18,
      "outputs": [
        {
          "output_type": "stream",
          "name": "stdout",
          "text": [
            "Collecting pyaudio\n",
            "  Using cached PyAudio-0.2.14.tar.gz (47 kB)\n",
            "  Installing build dependencies ... \u001b[?25l\u001b[?25hdone\n",
            "  Getting requirements to build wheel ... \u001b[?25l\u001b[?25hdone\n",
            "  Preparing metadata (pyproject.toml) ... \u001b[?25l\u001b[?25hdone\n",
            "Building wheels for collected packages: pyaudio\n",
            "  Building wheel for pyaudio (pyproject.toml) ... \u001b[?25l\u001b[?25hdone\n",
            "  Created wheel for pyaudio: filename=PyAudio-0.2.14-cp310-cp310-linux_x86_64.whl size=63859 sha256=2164890add0dd12c2811ba30a7accfcf0a1b2dbc0f603482d800fa5becc04b5e\n",
            "  Stored in directory: /root/.cache/pip/wheels/d6/21/f4/0b51d41ba79e51b16295cbb096ec49f334792814d545b508c5\n",
            "Successfully built pyaudio\n",
            "Installing collected packages: pyaudio\n",
            "Successfully installed pyaudio-0.2.14\n"
          ]
        }
      ]
    },
    {
      "cell_type": "code",
      "source": [
        "!pip install sounddevice"
      ],
      "metadata": {
        "colab": {
          "base_uri": "https://localhost:8080/"
        },
        "id": "IIWvm5lVux3Z",
        "outputId": "32063a3e-877f-4fa2-86a1-dbcb8682c1c6"
      },
      "execution_count": 20,
      "outputs": [
        {
          "output_type": "stream",
          "name": "stdout",
          "text": [
            "Collecting sounddevice\n",
            "  Downloading sounddevice-0.4.6-py3-none-any.whl (31 kB)\n",
            "Requirement already satisfied: CFFI>=1.0 in /usr/local/lib/python3.10/dist-packages (from sounddevice) (1.16.0)\n",
            "Requirement already satisfied: pycparser in /usr/local/lib/python3.10/dist-packages (from CFFI>=1.0->sounddevice) (2.21)\n",
            "Installing collected packages: sounddevice\n",
            "Successfully installed sounddevice-0.4.6\n"
          ]
        }
      ]
    },
    {
      "cell_type": "code",
      "source": [
        "# all imports\n",
        "from io import BytesIO\n",
        "from base64 import b64decode\n",
        "from google.colab import output\n",
        "from IPython.display import Javascript\n",
        "\n",
        "RECORD = \"\"\"\n",
        "const sleep  = time => new Promise(resolve => setTimeout(resolve, time))\n",
        "const b2text = blob => new Promise(resolve => {\n",
        "  const reader = new FileReader()\n",
        "  reader.onloadend = e => resolve(e.srcElement.result)\n",
        "  reader.readAsDataURL(blob)\n",
        "})\n",
        "var record = time => new Promise(async resolve => {\n",
        "  stream = await navigator.mediaDevices.getUserMedia({ audio: true })\n",
        "  recorder = new MediaRecorder(stream)\n",
        "  chunks = []\n",
        "  recorder.ondataavailable = e => chunks.push(e.data)\n",
        "  recorder.start()\n",
        "  await sleep(time)\n",
        "  recorder.onstop = async ()=>{\n",
        "    blob = new Blob(chunks)\n",
        "    text = await b2text(blob)\n",
        "    resolve(text)\n",
        "  }\n",
        "  recorder.stop()\n",
        "})\n",
        "\"\"\"\n",
        "\n",
        "def record(sec=3):\n",
        "  print(\"Speak Now...\")\n",
        "  display(Javascript(RECORD))\n",
        "  sec += 1\n",
        "  s = output.eval_js('record(%d)' % (sec*1000))\n",
        "  print(\"Done Recording !\")\n",
        "  b = b64decode(s.split(',')[1])\n",
        "  return b #byte stream\n",
        "\n"
      ],
      "metadata": {
        "id": "py9iPyF1wTHD"
      },
      "execution_count": 45,
      "outputs": []
    },
    {
      "cell_type": "code",
      "source": [
        "audio = record(2)"
      ],
      "metadata": {
        "colab": {
          "base_uri": "https://localhost:8080/",
          "height": 52
        },
        "id": "cQdlwi8RwX-5",
        "outputId": "4324cb8f-e32e-4d7f-9a0f-b1d0191b8a2d"
      },
      "execution_count": 46,
      "outputs": [
        {
          "output_type": "stream",
          "name": "stdout",
          "text": [
            "Speak Now...\n"
          ]
        },
        {
          "output_type": "display_data",
          "data": {
            "text/plain": [
              "<IPython.core.display.Javascript object>"
            ],
            "application/javascript": [
              "\n",
              "const sleep  = time => new Promise(resolve => setTimeout(resolve, time))\n",
              "const b2text = blob => new Promise(resolve => {\n",
              "  const reader = new FileReader()\n",
              "  reader.onloadend = e => resolve(e.srcElement.result)\n",
              "  reader.readAsDataURL(blob)\n",
              "})\n",
              "var record = time => new Promise(async resolve => {\n",
              "  stream = await navigator.mediaDevices.getUserMedia({ audio: true })\n",
              "  recorder = new MediaRecorder(stream)\n",
              "  chunks = []\n",
              "  recorder.ondataavailable = e => chunks.push(e.data)\n",
              "  recorder.start()\n",
              "  await sleep(time)\n",
              "  recorder.onstop = async ()=>{\n",
              "    blob = new Blob(chunks)\n",
              "    text = await b2text(blob)\n",
              "    resolve(text)\n",
              "  }\n",
              "  recorder.stop()\n",
              "})\n"
            ]
          },
          "metadata": {}
        },
        {
          "output_type": "stream",
          "name": "stdout",
          "text": [
            "Done Recording !\n"
          ]
        }
      ]
    },
    {
      "cell_type": "code",
      "source": [
        "type(audio)\n",
        ""
      ],
      "metadata": {
        "colab": {
          "base_uri": "https://localhost:8080/"
        },
        "id": "mY-q0ipxweZy",
        "outputId": "620f48ed-3338-4f9e-9137-12253609ac4d"
      },
      "execution_count": 47,
      "outputs": [
        {
          "output_type": "execute_result",
          "data": {
            "text/plain": [
              "bytes"
            ]
          },
          "metadata": {},
          "execution_count": 47
        }
      ]
    },
    {
      "cell_type": "code",
      "source": [
        "import IPython.display as ipd\n",
        "\n",
        "ipd.display(ipd.Audio(audio))"
      ],
      "metadata": {
        "colab": {
          "base_uri": "https://localhost:8080/",
          "height": 75
        },
        "id": "fZZ-vbdswirw",
        "outputId": "3a56b9a9-47db-4388-c25f-27520b07781d"
      },
      "execution_count": 48,
      "outputs": [
        {
          "output_type": "display_data",
          "data": {
            "text/plain": [
              "<IPython.lib.display.Audio object>"
            ],
            "text/html": [
              "\n",
              "                <audio  controls=\"controls\" >\n",
              "                    <source src=\"data:audio/wav;base64,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\" type=\"audio/wav\" />\n",
              "                    Your browser does not support the audio element.\n",
              "                </audio>\n",
              "              "
            ]
          },
          "metadata": {}
        }
      ]
    },
    {
      "cell_type": "code",
      "source": [
        "pip install sounddevice pygame\n"
      ],
      "metadata": {
        "colab": {
          "base_uri": "https://localhost:8080/"
        },
        "id": "366m01dR2-Js",
        "outputId": "cbb7497c-7f95-4a79-d7f4-1ab6c9ed5ae5"
      },
      "execution_count": 69,
      "outputs": [
        {
          "output_type": "stream",
          "name": "stdout",
          "text": [
            "Requirement already satisfied: sounddevice in /usr/local/lib/python3.10/dist-packages (0.4.6)\n",
            "Requirement already satisfied: pygame in /usr/local/lib/python3.10/dist-packages (2.5.2)\n",
            "Requirement already satisfied: CFFI>=1.0 in /usr/local/lib/python3.10/dist-packages (from sounddevice) (1.16.0)\n",
            "Requirement already satisfied: pycparser in /usr/local/lib/python3.10/dist-packages (from CFFI>=1.0->sounddevice) (2.21)\n"
          ]
        }
      ]
    },
    {
      "cell_type": "code",
      "source": [
        "import speech_recognition as sr\n",
        "import pygame\n",
        "\n",
        "def speech_to_text(audio):\n",
        "    # Create a speech recognition object\n",
        "    recognizer = sr.Recognizer()\n",
        "\n",
        "    # Load audio file\n",
        "   # audio_file = sr.AudioFile(audio_file_path)\n",
        "\n",
        "    # Recognize speech from the audio file\n",
        "   # with audio_file as source:\n",
        "      #  audio_data = recognizer.record(source)\n",
        "\n",
        "      # Capture audio from the microphone\n",
        "\n",
        "\n",
        "    try:\n",
        "        # Use Google Web Speech API to convert speech to text\n",
        "        audio_data = sr.AudioData(audio, sample_rate=16000, sample_width=2)  # Adjust sample_rate and sample_width if needed\n",
        "        # Convert the NumPy array to a Pygame sound object\n",
        "\n",
        "\n",
        "        text = recognizer.recognize_google(audio_data)\n",
        "        return text\n",
        "    except sr.UnknownValueError:\n",
        "        print(\"Sorry, could not understand audio.\")\n",
        "        return None\n",
        "    except sr.RequestError as e:\n",
        "        print(f\"Error with the request to Google Web Speech API; {e}\")\n",
        "        return None\n",
        "\n",
        "# Replace 'path/to/your/audio/file.wav' with the path to your audio file\n",
        "#audio_file_path = 'download.wav'\n",
        "transcribed_text = speech_to_text(audio = record(5))\n",
        "\n",
        "\n",
        "if transcribed_text:\n",
        "    print(\"Transcribed Text:\")\n",
        "    print(transcribed_text)\n"
      ],
      "metadata": {
        "colab": {
          "base_uri": "https://localhost:8080/",
          "height": 69
        },
        "id": "y1agHHV7x7EK",
        "outputId": "0952ee57-6271-4541-d152-3f2a0e188bad"
      },
      "execution_count": 61,
      "outputs": [
        {
          "output_type": "stream",
          "name": "stdout",
          "text": [
            "Speak Now...\n"
          ]
        },
        {
          "output_type": "display_data",
          "data": {
            "text/plain": [
              "<IPython.core.display.Javascript object>"
            ],
            "application/javascript": [
              "\n",
              "const sleep  = time => new Promise(resolve => setTimeout(resolve, time))\n",
              "const b2text = blob => new Promise(resolve => {\n",
              "  const reader = new FileReader()\n",
              "  reader.onloadend = e => resolve(e.srcElement.result)\n",
              "  reader.readAsDataURL(blob)\n",
              "})\n",
              "var record = time => new Promise(async resolve => {\n",
              "  stream = await navigator.mediaDevices.getUserMedia({ audio: true })\n",
              "  recorder = new MediaRecorder(stream)\n",
              "  chunks = []\n",
              "  recorder.ondataavailable = e => chunks.push(e.data)\n",
              "  recorder.start()\n",
              "  await sleep(time)\n",
              "  recorder.onstop = async ()=>{\n",
              "    blob = new Blob(chunks)\n",
              "    text = await b2text(blob)\n",
              "    resolve(text)\n",
              "  }\n",
              "  recorder.stop()\n",
              "})\n"
            ]
          },
          "metadata": {}
        },
        {
          "output_type": "stream",
          "name": "stdout",
          "text": [
            "Done Recording !\n",
            "Sorry, could not understand audio.\n"
          ]
        }
      ]
    },
    {
      "cell_type": "code",
      "source": [
        "import sounddevice as sd\n",
        "import numpy as np\n",
        "import pygame\n",
        "\n",
        "def play_audio(audio_data, sample_rate=44100):\n",
        "    print(\"Playing...\")\n",
        "\n",
        "    # Initialize Pygame mixer\n",
        "    pygame.mixer.init()\n",
        "    # Convert the NumPy array to a Pygame sound object\n",
        "    sound = pygame.sndarray.make_sound(audio_data)\n",
        "\n",
        "    # Play the sound\n",
        "    sound.play()\n",
        "\n",
        "    # Wait for the sound to finish playing\n",
        "    pygame.time.wait(int(audio_data.shape[0] / sample_rate * 1000))\n",
        "\n",
        "    print(\"Playback complete.\")\n",
        "\n",
        "def main():\n",
        "    duration = 5  # Duration of recording in seconds\n",
        "    sample_rate = 44100  # Sample rate in Hz\n",
        "\n",
        "    audio_data = record(5)\n",
        "\n",
        "    # Play the recorded audio\n",
        "    play_audio(audio_data, sample_rate)\n",
        "\n",
        "if __name__ == \"__main__\":\n",
        "    main()"
      ],
      "metadata": {
        "colab": {
          "base_uri": "https://localhost:8080/",
          "height": 407
        },
        "id": "_A6b8C6_4-n0",
        "outputId": "2af928be-8d4e-4f4d-e3f7-35565394d989"
      },
      "execution_count": 70,
      "outputs": [
        {
          "output_type": "stream",
          "name": "stdout",
          "text": [
            "Speak Now...\n"
          ]
        },
        {
          "output_type": "display_data",
          "data": {
            "text/plain": [
              "<IPython.core.display.Javascript object>"
            ],
            "application/javascript": [
              "\n",
              "const sleep  = time => new Promise(resolve => setTimeout(resolve, time))\n",
              "const b2text = blob => new Promise(resolve => {\n",
              "  const reader = new FileReader()\n",
              "  reader.onloadend = e => resolve(e.srcElement.result)\n",
              "  reader.readAsDataURL(blob)\n",
              "})\n",
              "var record = time => new Promise(async resolve => {\n",
              "  stream = await navigator.mediaDevices.getUserMedia({ audio: true })\n",
              "  recorder = new MediaRecorder(stream)\n",
              "  chunks = []\n",
              "  recorder.ondataavailable = e => chunks.push(e.data)\n",
              "  recorder.start()\n",
              "  await sleep(time)\n",
              "  recorder.onstop = async ()=>{\n",
              "    blob = new Blob(chunks)\n",
              "    text = await b2text(blob)\n",
              "    resolve(text)\n",
              "  }\n",
              "  recorder.stop()\n",
              "})\n"
            ]
          },
          "metadata": {}
        },
        {
          "output_type": "stream",
          "name": "stdout",
          "text": [
            "Done Recording !\n",
            "Playing...\n"
          ]
        },
        {
          "output_type": "error",
          "ename": "error",
          "evalue": "ignored",
          "traceback": [
            "\u001b[0;31m---------------------------------------------------------------------------\u001b[0m",
            "\u001b[0;31merror\u001b[0m                                     Traceback (most recent call last)",
            "\u001b[0;32m<ipython-input-70-3b5730d88426>\u001b[0m in \u001b[0;36m<cell line: 30>\u001b[0;34m()\u001b[0m\n\u001b[1;32m     29\u001b[0m \u001b[0;34m\u001b[0m\u001b[0m\n\u001b[1;32m     30\u001b[0m \u001b[0;32mif\u001b[0m \u001b[0m__name__\u001b[0m \u001b[0;34m==\u001b[0m \u001b[0;34m\"__main__\"\u001b[0m\u001b[0;34m:\u001b[0m\u001b[0;34m\u001b[0m\u001b[0;34m\u001b[0m\u001b[0m\n\u001b[0;32m---> 31\u001b[0;31m     \u001b[0mmain\u001b[0m\u001b[0;34m(\u001b[0m\u001b[0;34m)\u001b[0m\u001b[0;34m\u001b[0m\u001b[0;34m\u001b[0m\u001b[0m\n\u001b[0m",
            "\u001b[0;32m<ipython-input-70-3b5730d88426>\u001b[0m in \u001b[0;36mmain\u001b[0;34m()\u001b[0m\n\u001b[1;32m     26\u001b[0m \u001b[0;34m\u001b[0m\u001b[0m\n\u001b[1;32m     27\u001b[0m     \u001b[0;31m# Play the recorded audio\u001b[0m\u001b[0;34m\u001b[0m\u001b[0;34m\u001b[0m\u001b[0m\n\u001b[0;32m---> 28\u001b[0;31m     \u001b[0mplay_audio\u001b[0m\u001b[0;34m(\u001b[0m\u001b[0maudio_data\u001b[0m\u001b[0;34m,\u001b[0m \u001b[0msample_rate\u001b[0m\u001b[0;34m)\u001b[0m\u001b[0;34m\u001b[0m\u001b[0;34m\u001b[0m\u001b[0m\n\u001b[0m\u001b[1;32m     29\u001b[0m \u001b[0;34m\u001b[0m\u001b[0m\n\u001b[1;32m     30\u001b[0m \u001b[0;32mif\u001b[0m \u001b[0m__name__\u001b[0m \u001b[0;34m==\u001b[0m \u001b[0;34m\"__main__\"\u001b[0m\u001b[0;34m:\u001b[0m\u001b[0;34m\u001b[0m\u001b[0;34m\u001b[0m\u001b[0m\n",
            "\u001b[0;32m<ipython-input-70-3b5730d88426>\u001b[0m in \u001b[0;36mplay_audio\u001b[0;34m(audio_data, sample_rate)\u001b[0m\n\u001b[1;32m      7\u001b[0m \u001b[0;34m\u001b[0m\u001b[0m\n\u001b[1;32m      8\u001b[0m     \u001b[0;31m# Initialize Pygame mixer\u001b[0m\u001b[0;34m\u001b[0m\u001b[0;34m\u001b[0m\u001b[0m\n\u001b[0;32m----> 9\u001b[0;31m     \u001b[0mpygame\u001b[0m\u001b[0;34m.\u001b[0m\u001b[0mmixer\u001b[0m\u001b[0;34m.\u001b[0m\u001b[0minit\u001b[0m\u001b[0;34m(\u001b[0m\u001b[0;34m)\u001b[0m\u001b[0;34m\u001b[0m\u001b[0;34m\u001b[0m\u001b[0m\n\u001b[0m\u001b[1;32m     10\u001b[0m     \u001b[0;31m# Convert the NumPy array to a Pygame sound object\u001b[0m\u001b[0;34m\u001b[0m\u001b[0;34m\u001b[0m\u001b[0m\n\u001b[1;32m     11\u001b[0m     \u001b[0msound\u001b[0m \u001b[0;34m=\u001b[0m \u001b[0mpygame\u001b[0m\u001b[0;34m.\u001b[0m\u001b[0msndarray\u001b[0m\u001b[0;34m.\u001b[0m\u001b[0mmake_sound\u001b[0m\u001b[0;34m(\u001b[0m\u001b[0maudio_data\u001b[0m\u001b[0;34m)\u001b[0m\u001b[0;34m\u001b[0m\u001b[0;34m\u001b[0m\u001b[0m\n",
            "\u001b[0;31merror\u001b[0m: ALSA: Couldn't open audio device: No such file or directory"
          ]
        }
      ]
    },
    {
      "cell_type": "code",
      "source": [
        "import librosa\n",
        "import librosa.display\n",
        "import matplotlib.pyplot as plt\n",
        "\n",
        "def load_audio_file(file_path):\n",
        "    # Load audio file\n",
        "    audio_data, sample_rate = librosa.load(file_path, sr=None)\n",
        "\n",
        "    return audio_data, sample_rate\n",
        "\n",
        "def plot_waveform(audio_data, sample_rate):\n",
        "    # Plot the waveform\n",
        "    plt.figure(figsize=(15, 5))\n",
        "    librosa.display.waveshow(audio_data, sr=sample_rate)\n",
        "    plt.title('Waveform')\n",
        "    plt.xlabel('Time (s)')\n",
        "    plt.ylabel('Amplitude')\n",
        "    plt.show()\n",
        "\n",
        "def main():\n",
        "    # Replace 'path/to/your/audio/file.wav' with the path to your audio file\n",
        "    audio_file_path = 'download.wav'\n",
        "\n",
        "    audio_data, sample_rate = load_audio_file(audio_file_path)\n",
        "\n",
        "    # Plot the waveform\n",
        "    plot_waveform(audio_data, sample_rate)\n",
        "\n",
        "if __name__ == \"__main__\":\n",
        "    main()\n"
      ],
      "metadata": {
        "colab": {
          "base_uri": "https://localhost:8080/",
          "height": 591
        },
        "id": "bzdAkBN4CTCQ",
        "outputId": "5fa0c7bb-3920-44a8-bc74-11e36749df80"
      },
      "execution_count": 79,
      "outputs": [
        {
          "output_type": "stream",
          "name": "stderr",
          "text": [
            "<ipython-input-79-4afa31d3ddd5>:7: UserWarning: PySoundFile failed. Trying audioread instead.\n",
            "  audio_data, sample_rate = librosa.load(file_path, sr=None)\n",
            "/usr/local/lib/python3.10/dist-packages/librosa/core/audio.py:183: FutureWarning: librosa.core.audio.__audioread_load\n",
            "\tDeprecated as of librosa version 0.10.0.\n",
            "\tIt will be removed in librosa version 1.0.\n",
            "  y, sr_native = __audioread_load(path, offset, duration, dtype)\n"
          ]
        },
        {
          "output_type": "display_data",
          "data": {
            "text/plain": [
              "<Figure size 1500x500 with 1 Axes>"
            ],
            "image/png": "[encoded data removed]"
          },
          "metadata": {}
        }
      ]
    },
    {
      "cell_type": "markdown",
      "source": [
        "# New Section"
      ],
      "metadata": {
        "id": "DVreSgHEynHS"
      }
    }
  ]
}